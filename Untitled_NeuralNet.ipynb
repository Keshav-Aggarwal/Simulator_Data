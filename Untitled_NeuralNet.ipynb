{
 "cells": [
  {
   "cell_type": "code",
   "execution_count": null,
   "metadata": {},
   "outputs": [],
   "source": [
    "import matplotlib.pyplot as plt\n",
    "import cv2\n",
    "import numpy as np\n",
    "import glob\n",
    "import os\n",
    "import sklearn\n",
    "from sklearn.svm import SVC\n",
    "from sklearn.metrics import confusion_matrix\n",
    "from sklearn.decomposition import PCA\n",
    "import itertools\n",
    "from sklearn import grid_search\n",
    "from sklearn.preprocessing import StandardScaler\n",
    "from scipy.ndimage.measurements import label\n",
    "from cv2 import HOGDescriptor\n",
    "%matplotlib inline"
   ]
  },
  {
   "cell_type": "code",
   "execution_count": null,
   "metadata": {
    "collapsed": true
   },
   "outputs": [],
   "source": [
    "vehiclesDir = os.listdir('vehicles')\n",
    "imagesVehiclePath = []\n",
    "for folder in vehiclesDir:\n",
    "    path = os.path.join(os.path.join('vehicles',folder), '*.png')\n",
    "    imagesVehiclePath.append(glob.glob(path))\n",
    "    \n",
    "nonVehiclesDir = os.listdir('non-vehicles')\n",
    "nonImagesVehiclePath = []\n",
    "for folder in nonVehiclesDir:\n",
    "    path = os.path.join(os.path.join('non-vehicles',folder), '*.png')\n",
    "    nonImagesVehiclePath.append(glob.glob(path))"
   ]
  },
  {
   "cell_type": "code",
   "execution_count": null,
   "metadata": {
    "collapsed": true
   },
   "outputs": [],
   "source": [
    "vehicle = []\n",
    "nonVehicle = []\n",
    "for imgDirPath in imagesVehiclePath:\n",
    "    for imgPath in imgDirPath:\n",
    "        vehicle.append(cv2.cvtColor(cv2.imread(imgPath), cv2.COLOR_BGR2RGB))\n",
    "\n",
    "for imgDirPath in nonImagesVehiclePath:\n",
    "    for imgPath in imgDirPath:\n",
    "        nonVehicle.append(cv2.cvtColor(cv2.imread(imgPath), cv2.COLOR_BGR2RGB))\n"
   ]
  },
  {
   "cell_type": "code",
   "execution_count": null,
   "metadata": {
    "scrolled": true
   },
   "outputs": [],
   "source": [
    "print(\"Number of Vehicle Data samples \", len(vehicle))\n",
    "print(\"Number of Non-Vehicle Data samples \", len(nonVehicle))"
   ]
  },
  {
   "cell_type": "code",
   "execution_count": null,
   "metadata": {
    "collapsed": true
   },
   "outputs": [],
   "source": [
    "y_label_class = [1,0]\n",
    "y_label_vehicle = [y_label_class[0]]*len(vehicle)\n",
    "y_label_nonVehicle = [y_label_class[1]]*len(nonVehicle)\n",
    "\n",
    "data = np.vstack([vehicle, nonVehicle])\n",
    "label = np.hstack([y_label_vehicle, y_label_nonVehicle])"
   ]
  },
  {
   "cell_type": "code",
   "execution_count": null,
   "metadata": {
    "collapsed": true
   },
   "outputs": [],
   "source": [
    "from sklearn.model_selection import train_test_split\n",
    "X_train, X_test, y_train, y_test = train_test_split(data, label, test_size=0.1, shuffle = True, random_state=43)"
   ]
  },
  {
   "cell_type": "markdown",
   "metadata": {},
   "source": [
    "### Checking the car in an image"
   ]
  },
  {
   "cell_type": "code",
   "execution_count": null,
   "metadata": {
    "collapsed": true
   },
   "outputs": [],
   "source": [
    "from random import randint\n",
    "def getCroppedScene(img, window):\n",
    "    p1 = window[0]\n",
    "    p2 = window[1]\n",
    "    return img[p1[0]:p2[0], p1[1]:p2[1]]\n",
    "\n",
    "def slide_window(img, x_start_stop=[None, None], y_start_stop=[None, None], xy_window=(64, 64), xy_overlap=(0.5, 0.5)):\n",
    "    # If x and/or y start/stop positions not defined, set to image size\n",
    "    if x_start_stop[0] == None:\n",
    "        x_start_stop[0] = 0\n",
    "    if x_start_stop[1] == None:\n",
    "        x_start_stop[1] = img.shape[1]\n",
    "    if y_start_stop[0] == None:\n",
    "        y_start_stop[0] = 0\n",
    "    if y_start_stop[1] == None:\n",
    "        y_start_stop[1] = img.shape[0]\n",
    "        \n",
    "    # Compute the span of the region to be searched    \n",
    "    xspan = x_start_stop[1] - x_start_stop[0]\n",
    "    yspan = y_start_stop[1] - y_start_stop[0]\n",
    "    # Compute the number of pixels per step in x/y\n",
    "    nx_pix_per_step = np.int(xy_window[0]*(1 - xy_overlap[0]))\n",
    "    ny_pix_per_step = np.int(xy_window[1]*(1 - xy_overlap[1]))\n",
    "    # Compute the number of windows in x/y\n",
    "    nx_buffer = np.int(xy_window[0]*(xy_overlap[0]))\n",
    "    ny_buffer = np.int(xy_window[1]*(xy_overlap[1]))\n",
    "    nx_windows = np.int((xspan-nx_buffer)/nx_pix_per_step) \n",
    "    ny_windows = np.int((yspan-ny_buffer)/ny_pix_per_step) \n",
    "    # Initialize a list to append window positions to\n",
    "    window_list = []\n",
    "    for ys in range(ny_windows):\n",
    "        for xs in range(nx_windows):\n",
    "            # Calculate window position\n",
    "            startx = xs*nx_pix_per_step + x_start_stop[0]\n",
    "            endx = startx + xy_window[0]\n",
    "            starty = ys*ny_pix_per_step + y_start_stop[0]\n",
    "            endy = starty + xy_window[1]\n",
    "            # Append window position to list\n",
    "            window_list.append(((startx, starty), (endx, endy)))\n",
    "    # Return the list of windows\n",
    "    return window_list\n",
    "\n",
    "def draw_boxes(img, bboxes, color=(0, 0, 255), thick=3):\n",
    "    # Make a copy of the image\n",
    " \n",
    "    \n",
    "    imcopy = np.copy(img)\n",
    "    # Iterate through the bounding boxes\n",
    "    for bbox in bboxes:\n",
    "        r = ((randint(0,255)))\n",
    "        g = (randint(0,255))\n",
    "        b = (randint(0,255))\n",
    "        # Draw a rectangle given bbox coordinates\n",
    "        cv2.rectangle(imcopy, bbox[0], bbox[1], (r,g,b), thick)\n",
    "    # Return the image copy with boxes drawn\n",
    "    return imcopy"
   ]
  },
  {
   "cell_type": "code",
   "execution_count": null,
   "metadata": {
    "collapsed": true
   },
   "outputs": [],
   "source": [
    "from keras.models import load_model\n",
    "model = load_model('model_1.h5')"
   ]
  },
  {
   "cell_type": "code",
   "execution_count": null,
   "metadata": {},
   "outputs": [],
   "source": [
    "\n",
    "def search_windows(img, windows):\n",
    "\n",
    "    #1) Create an empty list to receive positive detection windows\n",
    "    on_windows = []\n",
    "    #2) Iterate over all windows in the list\n",
    "    for window in windows:\n",
    "#         print(window)\n",
    "        #3) Extract the test window from original image\n",
    "        test_img = cv2.resize(img[window[0][1]:window[1][1], window[0][0]:window[1][0]], (64, 64))      \n",
    "\n",
    "        prediction = model.predict(test_img[None, :, :, :], batch_size=1)\n",
    "        \n",
    "        if prediction >= 0.6:\n",
    "            on_windows.append(window)\n",
    "    #8) Return windows for positive detections\n",
    "    return on_windows\n",
    "\n",
    "\n",
    "def add_heat(heatmap, bbox_list):\n",
    "    # Iterate through list of bboxes\n",
    "    for box in bbox_list:\n",
    "        # Add += 1 for all pixels inside each bbox\n",
    "        # Assuming each \"box\" takes the form ((x1, y1), (x2, y2))\n",
    "        heatmap[box[0][1]:box[1][1], box[0][0]:box[1][0]] += 1\n",
    "\n",
    "    # Return updated heatmap\n",
    "    return heatmap# Iterate through list of bboxes\n",
    "    \n",
    "def apply_threshold(heatmap, threshold):\n",
    "    # Zero out pixels below the threshold\n",
    "    heatmap[heatmap <= threshold] = 0\n",
    "    # Return thresholded map\n",
    "    return heatmap\n",
    "\n",
    "def draw_labeled_bboxes(img, labels):\n",
    "    # Iterate through all detected cars\n",
    "    for car_number in range(1, labels[1]+1):\n",
    "        # Find pixels with each car_number label value\n",
    "        nonzero = (labels[0] == car_number).nonzero()\n",
    "        # Identify x and y values of those pixels\n",
    "        nonzeroy = np.array(nonzero[0])\n",
    "        nonzerox = np.array(nonzero[1])\n",
    "        # Define a bounding box based on min/max x and y\n",
    "        bbox = ((np.min(nonzerox), np.min(nonzeroy)), (np.max(nonzerox), np.max(nonzeroy)))\n",
    "        # Draw the box on the image\n",
    "        cv2.rectangle(img, bbox[0], bbox[1], (0,0,255), 2)\n",
    "    # Return the image\n",
    "    return img\n"
   ]
  },
  {
   "cell_type": "code",
   "execution_count": null,
   "metadata": {
    "scrolled": true
   },
   "outputs": [],
   "source": [
    "imgTest = cv2.cvtColor(cv2.imread('Input13.jpg'), cv2.COLOR_BGR2RGB)\n",
    "imgTest1 = cv2.cvtColor(cv2.imread('Input13.jpg'), cv2.COLOR_BGR2RGB)\n",
    "windows = []\n",
    "# windows += slide_window(imgTest, x_start_stop=[None, None], y_start_stop=[350,450], xy_window=(64, 64), xy_overlap=(0.75, 0.75))\n",
    "\n",
    "windows += slide_window(imgTest, x_start_stop=[None, None], y_start_stop=[350,478], xy_window=(64, 64), xy_overlap=(0.8, 0.8))\n",
    "windows += slide_window(imgTest, x_start_stop=[None, None], y_start_stop=[450,650], xy_window=(96, 96), xy_overlap=(0.8, 0.8))\n",
    "# windows += slide_window(imgTest, x_start_stop=[None, None], y_start_stop=[350,650], xy_window=(256, 256), xy_overlap=(0.75, 0.75))\n",
    "print(\"Number of widnows are \", len(windows))\n",
    "fig = plt.figure(figsize=(16,8))\n",
    "plt.subplot(121)\n",
    "plt.imshow(draw_boxes(imgTest, windows))\n",
    "\n",
    "Test = search_windows(imgTest1, windows)\n",
    "\n",
    "plt.subplot(122)\n",
    "img1 = (draw_boxes(imgTest1, Test))\n",
    "plt.imshow(img1)\n"
   ]
  },
  {
   "cell_type": "code",
   "execution_count": null,
   "metadata": {
    "scrolled": false
   },
   "outputs": [],
   "source": [
    "heatMapCheck = cv2.cvtColor(cv2.imread('Input13.jpg'), cv2.COLOR_BGR2RGB)\n",
    "heat = np.zeros_like(heatMapCheck[:,:,0]).astype(np.float)\n",
    "\n",
    "# Add heat to each box in box list\n",
    "heat = add_heat(heat,Test)\n",
    "    \n",
    "# Apply threshold to help remove false positives\n",
    "heat = apply_threshold(heat,2)\n",
    "# Visualize the heatmap when displaying    \n",
    "heatmap = np.clip(heat, 0, 255)\n",
    "\n",
    "# Find final boxes from heatmap using label function\n",
    "labels = label(heatmap)\n",
    "draw_img = draw_labeled_bboxes(np.copy(heatMapCheck), labels)\n",
    "plt.figure(figsize=(16 ,16))\n",
    "plt.imshow(draw_img)"
   ]
  },
  {
   "cell_type": "code",
   "execution_count": null,
   "metadata": {
    "scrolled": false
   },
   "outputs": [],
   "source": [
    "%%time\n",
    "print(len(windows))\n",
    "i=0\n",
    "def pipeline(img):\n",
    "    global i\n",
    "    plt.imsave(\"opImg/Input\"+str(i)+\".jpg\", img)\n",
    "    heat = np.zeros_like(img[:,:,0]).astype(np.float)\n",
    "    \n",
    "    Test = search_windows(img, windows)\n",
    "    heat = add_heat(heat,Test)\n",
    "\n",
    "    heatm = apply_threshold(heat,3)\n",
    "    heatmap = np.clip(heatm, 0, 255)\n",
    "    \n",
    "    labels = label(heatmap)\n",
    "    output =  draw_labeled_bboxes(np.copy(img), labels)\n",
    "#     plt.imsave(output,(\"opImg/Input\"+str(i)+\".jpg\"))\n",
    "    plt.imsave(\"opImg/Input\"+str(i)+\"_1.jpg\", output)\n",
    "    i = i+1\n",
    "    return output\n",
    "\n",
    "heatMapCheck = cv2.imread('test1.jpg')\n",
    "plt.figure(figsize=(16, 16))\n",
    "plt.imshow(pipeline(cv2.cvtColor(heatMapCheck, cv2.COLOR_BGR2RGB)))"
   ]
  },
  {
   "cell_type": "code",
   "execution_count": null,
   "metadata": {
    "scrolled": true
   },
   "outputs": [],
   "source": [
    "i = 0\n",
    "import moviepy\n",
    "from moviepy.editor import VideoFileClip\n",
    "video_output1 = 'output4.mp4'\n",
    "video_input1 = VideoFileClip('project_video.mp4').subclip(30, 45)\n",
    "processed_video = video_input1.fl_image(pipeline)\n",
    "%time processed_video.write_videofile(video_output1, audio=False)\n",
    "video_input1.reader.close()\n",
    "video_input1.audio.reader.close_proc()"
   ]
  }
 ],
 "metadata": {
  "kernelspec": {
   "display_name": "Python 3",
   "language": "python",
   "name": "python3"
  },
  "language_info": {
   "codemirror_mode": {
    "name": "ipython",
    "version": 3
   },
   "file_extension": ".py",
   "mimetype": "text/x-python",
   "name": "python",
   "nbconvert_exporter": "python",
   "pygments_lexer": "ipython3",
   "version": "3.5.4"
  },
  "widgets": {
   "state": {},
   "version": "1.1.2"
  }
 },
 "nbformat": 4,
 "nbformat_minor": 2
}
